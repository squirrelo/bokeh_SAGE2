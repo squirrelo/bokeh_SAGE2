{
 "cells": [
  {
   "cell_type": "code",
   "execution_count": 1,
   "metadata": {
    "collapsed": false
   },
   "outputs": [],
   "source": [
    "from bokeh.plotting import hplot, figure, show, output_server, curdoc\n",
    "from numpy import arange, sin, cos, tan\n",
    "from random import random\n",
    "from time import sleep\n",
    "from bokeh.client import ClientSession, push_session"
   ]
  },
  {
   "cell_type": "code",
   "execution_count": 2,
   "metadata": {
    "collapsed": false
   },
   "outputs": [],
   "source": [
    "session = push_session(curdoc(), session_id='sage', url='http://localhost:5006/', app_path='/')"
   ]
  },
  {
   "cell_type": "code",
   "execution_count": 3,
   "metadata": {
    "collapsed": true
   },
   "outputs": [],
   "source": [
    "x = arange(0, 10, random())\n",
    "y1 = tan(x) * 2\n",
    "y2 = cos(x)\n",
    "fig1 = figure(title='tan', responsive=True, plot_width=1000, plot_height=400)\n",
    "fig1_line = fig1.line(x, y1)\n",
    "fig2 = figure(title='cos', plot_width=1000, plot_height=400)\n",
    "fig2_line = fig2.line(x, y2)\n",
    "curdoc().add_root(fig1)\n",
    "curdoc().add_root(fig2)"
   ]
  },
  {
   "cell_type": "code",
   "execution_count": 6,
   "metadata": {
    "collapsed": false
   },
   "outputs": [],
   "source": [
    "for x in range(100):\n",
    "    x = arange(0, 10, random())\n",
    "    y1 = tan(x) * 2\n",
    "    y2 = cos(x)\n",
    "    fig1_line.data_source.data[\"y\"] = y1\n",
    "    fig2_line.data_source.data[\"y\"] = y2\n",
    "    sleep(0.1)"
   ]
  },
  {
   "cell_type": "code",
   "execution_count": null,
   "metadata": {
    "collapsed": false
   },
   "outputs": [],
   "source": [
    "session.show()"
   ]
  },
  {
   "cell_type": "code",
   "execution_count": null,
   "metadata": {
    "collapsed": false
   },
   "outputs": [],
   "source": [
    "session.object_link(plot)"
   ]
  },
  {
   "cell_type": "code",
   "execution_count": null,
   "metadata": {
    "collapsed": true
   },
   "outputs": [],
   "source": []
  }
 ],
 "metadata": {
  "kernelspec": {
   "display_name": "Python 2",
   "language": "python",
   "name": "python2"
  },
  "language_info": {
   "codemirror_mode": {
    "name": "ipython",
    "version": 2
   },
   "file_extension": ".py",
   "mimetype": "text/x-python",
   "name": "python",
   "nbconvert_exporter": "python",
   "pygments_lexer": "ipython2",
   "version": "2.7.12"
  }
 },
 "nbformat": 4,
 "nbformat_minor": 0
}
